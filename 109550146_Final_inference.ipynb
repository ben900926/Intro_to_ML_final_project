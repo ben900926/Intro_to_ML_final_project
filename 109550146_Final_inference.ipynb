{
  "cells": [
    {
      "cell_type": "markdown",
      "metadata": {
        "colab_type": "text",
        "id": "view-in-github"
      },
      "source": [
        "<a href=\"https://colab.research.google.com/github/ben900926/Intro_to_ML_final_project/blob/main/109550146_Final_inference.ipynb\" target=\"_parent\"><img src=\"https://colab.research.google.com/assets/colab-badge.svg\" alt=\"Open In Colab\"/></a>"
      ]
    },
    {
      "cell_type": "markdown",
      "metadata": {
        "id": "IffldYJ9QLTK"
      },
      "source": [
        "## Modules"
      ]
    },
    {
      "cell_type": "code",
      "execution_count": 11,
      "metadata": {
        "colab": {
          "base_uri": "https://localhost:8080/"
        },
        "id": "fcCkiLm5QNDy",
        "outputId": "c4f40991-0c00-4106-fe1f-10c95d018c38"
      },
      "outputs": [
        {
          "name": "stderr",
          "output_type": "stream",
          "text": [
            "Downloading...\n",
            "From: https://drive.google.com/uc?id=1GDmfpyUQJSR30OQGop1OfEPEos9sndrl\n",
            "To: d:\\NYCU_course\\ML\\NYCU_ML\\CS_CS20024\\final\\Intro_to_ML_final_project\\train.csv\n",
            "\n",
            "  0%|          | 0.00/3.95M [00:00<?, ?B/s]\n",
            " 13%|█▎        | 524k/3.95M [00:01<00:10, 316kB/s]\n",
            " 27%|██▋       | 1.05M/3.95M [00:03<00:08, 343kB/s]\n",
            " 40%|███▉      | 1.57M/3.95M [00:05<00:08, 290kB/s]\n",
            " 53%|█████▎    | 2.10M/3.95M [00:06<00:05, 338kB/s]\n",
            " 66%|██████▋   | 2.62M/3.95M [00:07<00:03, 358kB/s]\n",
            " 80%|███████▉  | 3.15M/3.95M [00:09<00:02, 371kB/s]\n",
            " 93%|█████████▎| 3.67M/3.95M [00:10<00:00, 389kB/s]\n",
            "100%|██████████| 3.95M/3.95M [00:11<00:00, 375kB/s]\n",
            "100%|██████████| 3.95M/3.95M [00:11<00:00, 356kB/s]\n",
            "Downloading...\n",
            "From: https://drive.google.com/uc?id=1JBxfTEXZCGWfmKFQWUlEcwlBYVnIRcUh\n",
            "To: d:\\NYCU_course\\ML\\NYCU_ML\\CS_CS20024\\final\\Intro_to_ML_final_project\\test.csv\n",
            "\n",
            "  0%|          | 0.00/3.06M [00:00<?, ?B/s]\n",
            " 17%|█▋        | 524k/3.06M [00:00<00:01, 2.16MB/s]\n",
            " 51%|█████▏    | 1.57M/3.06M [00:00<00:00, 3.75MB/s]\n",
            " 86%|████████▌ | 2.62M/3.06M [00:00<00:00, 4.51MB/s]\n",
            "100%|██████████| 3.06M/3.06M [00:00<00:00, 4.26MB/s]\n",
            "Downloading...\n",
            "From: https://drive.google.com/uc?id=1-5d3PfMkJr7ln3xu5xQbZQsqlqqInJbq\n",
            "To: d:\\NYCU_course\\ML\\NYCU_ML\\CS_CS20024\\final\\Intro_to_ML_final_project\\final_model.pkl\n",
            "\n",
            "  0%|          | 0.00/330 [00:00<?, ?B/s]\n",
            "100%|██████████| 330/330 [00:00<00:00, 329kB/s]\n",
            "Downloading...\n",
            "From: https://drive.google.com/uc?id=1-5xIIYDvwWfR0JSWqd5LNFX7K_mWLldN\n",
            "To: d:\\NYCU_course\\ML\\NYCU_ML\\CS_CS20024\\final\\Intro_to_ML_final_project\\dont_click_me.csv\n",
            "\n",
            "  0%|          | 0.00/532k [00:00<?, ?B/s]\n",
            " 98%|█████████▊| 524k/532k [00:03<00:00, 172kB/s]\n",
            "100%|██████████| 532k/532k [00:03<00:00, 175kB/s]\n"
          ]
        },
        {
          "name": "stdout",
          "output_type": "stream",
          "text": [
            "Requirement already satisfied: category_encoders in d:\\programdata\\anaconda\\envs\\ml_final\\lib\\site-packages (2.5.1.post0)\n",
            "Requirement already satisfied: pandas>=1.0.5 in d:\\programdata\\anaconda\\envs\\ml_final\\lib\\site-packages (from category_encoders) (1.3.5)\n",
            "Requirement already satisfied: scipy>=1.0.0 in d:\\programdata\\anaconda\\envs\\ml_final\\lib\\site-packages (from category_encoders) (1.8.1)\n",
            "Requirement already satisfied: patsy>=0.5.1 in d:\\programdata\\anaconda\\envs\\ml_final\\lib\\site-packages (from category_encoders) (0.5.3)\n",
            "Requirement already satisfied: statsmodels>=0.9.0 in d:\\programdata\\anaconda\\envs\\ml_final\\lib\\site-packages (from category_encoders) (0.13.5)\n",
            "Requirement already satisfied: scikit-learn>=0.20.0 in d:\\programdata\\anaconda\\envs\\ml_final\\lib\\site-packages (from category_encoders) (1.2.0)\n",
            "Requirement already satisfied: numpy>=1.14.0 in d:\\programdata\\anaconda\\envs\\ml_final\\lib\\site-packages (from category_encoders) (1.21.6)\n",
            "Requirement already satisfied: pytz>=2017.3 in d:\\programdata\\anaconda\\envs\\ml_final\\lib\\site-packages (from pandas>=1.0.5->category_encoders) (2022.7)\n",
            "Requirement already satisfied: python-dateutil>=2.7.3 in d:\\programdata\\anaconda\\envs\\ml_final\\lib\\site-packages (from pandas>=1.0.5->category_encoders) (2.8.2)\n",
            "Requirement already satisfied: six in d:\\programdata\\anaconda\\envs\\ml_final\\lib\\site-packages (from patsy>=0.5.1->category_encoders) (1.16.0)\n",
            "Requirement already satisfied: joblib>=1.1.1 in d:\\programdata\\anaconda\\envs\\ml_final\\lib\\site-packages (from scikit-learn>=0.20.0->category_encoders) (1.2.0)\n",
            "Requirement already satisfied: threadpoolctl>=2.0.0 in d:\\programdata\\anaconda\\envs\\ml_final\\lib\\site-packages (from scikit-learn>=0.20.0->category_encoders) (3.1.0)\n",
            "Requirement already satisfied: packaging>=21.3 in d:\\programdata\\anaconda\\envs\\ml_final\\lib\\site-packages (from statsmodels>=0.9.0->category_encoders) (22.0)\n"
          ]
        }
      ],
      "source": [
        "# download dependancy\n",
        "%pip install -r requirements.txt\n",
        "\n",
        "# download input data from my drive\n",
        "# train.csv https://drive.google.com/file/d/1GDmfpyUQJSR30OQGop1OfEPEos9sndrl/view?usp=sharing\n",
        "!gdown \"1GDmfpyUQJSR30OQGop1OfEPEos9sndrl\" \n",
        "# test.csv https://drive.google.com/file/d/1JBxfTEXZCGWfmKFQWUlEcwlBYVnIRcUh/view?usp=sharing\n",
        "!gdown \"1JBxfTEXZCGWfmKFQWUlEcwlBYVnIRcUh\" \n",
        "# download the MODEL WEIGHT from my drive \n",
        "# link: https://drive.google.com/file/d/1-5d3PfMkJr7ln3xu5xQbZQsqlqqInJbq/view?usp=sharing\n",
        "!gdown \"1-5d3PfMkJr7ln3xu5xQbZQsqlqqInJbq\" \n",
        "# sample submission.csv\n",
        "# dont_click_me.csv https://drive.google.com/file/d/1-5xIIYDvwWfR0JSWqd5LNFX7K_mWLldN/view?usp=sharing\n",
        "!gdown \"1-5xIIYDvwWfR0JSWqd5LNFX7K_mWLldN\" \n",
        "\n",
        "# download encoder needed for preprocessing\n",
        "!pip install category_encoders"
      ]
    },
    {
      "cell_type": "code",
      "execution_count": 12,
      "metadata": {
        "id": "qOtQrcrVSehV"
      },
      "outputs": [],
      "source": [
        "import pandas as pd\n",
        "import os\n",
        "import random\n",
        "import numpy as np\n",
        "import itertools\n",
        "\n",
        "# model\n",
        "from sklearn.linear_model import LogisticRegression\n",
        "from sklearn.linear_model import LinearRegression, HuberRegressor, LogisticRegression\n",
        "from sklearn.impute import KNNImputer\n",
        "\n",
        "# auc metrics\n",
        "from sklearn.metrics import roc_auc_score\n",
        "from sklearn.base import clone\n",
        "\n",
        "# Pipeline Constructors\n",
        "from sklearn.pipeline import make_pipeline\n",
        "from sklearn.compose import make_column_transformer\n",
        "from sklearn.preprocessing import FunctionTransformer, RobustScaler\n",
        "from category_encoders import WOEEncoder\n",
        "import sklearn\n",
        "# save model\n",
        "import pickle"
      ]
    },
    {
      "cell_type": "markdown",
      "metadata": {
        "id": "8UuVjSA0QPKH"
      },
      "source": [
        "## Parameters"
      ]
    },
    {
      "cell_type": "code",
      "execution_count": 13,
      "metadata": {
        "id": "ZAz_mBDLQTdf"
      },
      "outputs": [],
      "source": [
        "SEED = 153\n",
        "\n",
        "########## please offer the link to other \"final_model.pkl\" IF you run my train code! ####################\n",
        "MODEL_WEIGHT_PATH = \"final_model.pkl\"\n",
        "########################################################################################################################\n",
        "\n",
        "# submission.csv file path\n",
        "SUBMISSION_PATH = \"109550146_submission.csv\"\n",
        "# sample submission"
      ]
    },
    {
      "cell_type": "markdown",
      "metadata": {
        "id": "TRlxnX0nsYXu"
      },
      "source": [
        "## Preprocessing"
      ]
    },
    {
      "cell_type": "code",
      "execution_count": 14,
      "metadata": {
        "id": "xiCT2EkNRm80"
      },
      "outputs": [],
      "source": [
        "# read input data\n",
        "train_df = pd.read_csv(\"train.csv\") \n",
        "target = train_df.pop(\"failure\")\n",
        "test_df = pd.read_csv(\"test.csv\")\n",
        "\n",
        "# use 2 production groups for valid set\n",
        "production = test_df[\"product_code\"].unique()\n",
        "# pick 2 index out of five product codes\n",
        "cmb_groups = list(itertools.combinations(production, 2))"
      ]
    },
    {
      "cell_type": "code",
      "execution_count": 15,
      "metadata": {
        "id": "CSJUZUEZscP3"
      },
      "outputs": [],
      "source": [
        "def preprocessing(df_train, df_test):\n",
        "    data = pd.concat([df_train, df_test])\n",
        "    \n",
        "    # new attribute inspired by disscusion\n",
        "    data['area'] = data['attribute_2'] * data['attribute_3']\n",
        "    data['m3_null'] = data['measurement_3'].isnull().astype(np.int64)\n",
        "    data['m5_null'] = data['measurement_5'].isnull().astype(np.int64)\n",
        "    feature = [f for f in df_test.columns if f.startswith('measurement') or f =='loading']\n",
        "\n",
        "    full_fill_dict ={}\n",
        "    full_fill_dict['measurement_17'] = {\n",
        "        'A': [                'measurement_4','measurement_5','measurement_6','measurement_7','measurement_8'],\n",
        "        'B': ['measurement_3','measurement_4','measurement_5',                'measurement_7',                'measurement_9'],\n",
        "        'C': [                                'measurement_5','measurement_6','measurement_7','measurement_8','measurement_9'],\n",
        "        'D': ['measurement_3',                'measurement_5','measurement_6','measurement_7','measurement_8'],\n",
        "        'E': [                'measurement_4','measurement_5','measurement_6',                'measurement_8','measurement_9'],\n",
        "        'F': [                'measurement_4','measurement_5','measurement_6','measurement_7'],\n",
        "        'G': [                'measurement_4','measurement_5','measurement_6',                'measurement_8','measurement_9'],\n",
        "        'H': [                'measurement_4','measurement_5',                'measurement_7','measurement_8','measurement_9'],\n",
        "        'I': ['measurement_3','measurement_4',                'measurement_7','measurement_8','measurement_9']\n",
        "    }\n",
        "\n",
        "    # features without measurement\n",
        "    col = [col for col in df_test.columns if 'measurement' not in col]+ ['loading', 'm3_null', 'm5_null']\n",
        "    a = []\n",
        "    b = []\n",
        "\n",
        "    for x in range(3,17):\n",
        "      # correlation between each measurement and measurement 3~17\n",
        "      corr = np.absolute(data.drop(col, axis=1).corr()[f'measurement_{x}']).sort_values(ascending=False)\n",
        "      # sorted\n",
        "      corr = corr.sort_values(ascending=False)\n",
        "      a.append(np.round(np.sum(corr[1:4]),3))\n",
        "      b.append(f'measurement_{x}')\n",
        "\n",
        "    # making df with correlations\n",
        "    corr_df = pd.DataFrame()\n",
        "    corr_df['corr_sum'] = b\n",
        "    corr_df['selected_col'] = a\n",
        "    corr_df = corr_df.sort_values(by = 'corr_sum',ascending=False).reset_index(drop=True)\n",
        "\n",
        "    # select top-10 measurement with highest correlation\n",
        "    for i in range(10):\n",
        "      measurement_col = 'measurement_' + corr_df.iloc[i,0][12:]\n",
        "      fill_dict = {}\n",
        "      # correlation for each production code\n",
        "      for x in data.product_code.unique() : \n",
        "          #print(measurement_col)\n",
        "          corr = np.absolute(data[data.product_code == x].drop(col, axis=1).corr()[measurement_col]).sort_values(ascending=False)\n",
        "          # {'measurement_8': ['measurement_17', 'measurement_2', 'measurement_0', 'measurement_3']}\n",
        "          measurement_col_dic = {}\n",
        "          measurement_col_dic[measurement_col] = corr[1:5].index.tolist()\n",
        "          fill_dict[x] = measurement_col_dic[measurement_col]\n",
        "      full_fill_dict[measurement_col] =fill_dict\n",
        "\n",
        "    feature = [f for f in data.columns if f.startswith('measurement') or f=='loading']\n",
        "    nullValue_cols = [col for col in df_train.columns if df_train[col].isnull().sum()!=0]\n",
        "\n",
        "    for code in data.product_code.unique():\n",
        "      # we are using high-correlated given measurements to predict missing measurement_col\n",
        "      for measurement_col in list(full_fill_dict.keys()):\n",
        "        # train model with non-null\n",
        "        tmp = data[data.product_code == code]\n",
        "        column = full_fill_dict[measurement_col][code]\n",
        "        tmp_train = tmp[column+[measurement_col]].dropna(how='any')\n",
        "        measurement_null = (tmp[column].isnull().sum(axis=1) == 0) & (tmp[measurement_col].isnull())\n",
        "        tmp_test = tmp[measurement_null]\n",
        "\n",
        "        # using HugerRegressor(linear regression that is robust to outlines) to predict missing value\n",
        "        model = HuberRegressor(epsilon=1.9, max_iter=500)\n",
        "        model.fit(tmp_train[column], tmp_train[measurement_col])\n",
        "        measure_null_only = (data.product_code==code) & (data[column].isnull().sum(axis=1)==0) & (data[measurement_col].isnull())\n",
        "        data.loc[measure_null_only, measurement_col] = model.predict(tmp_test[column])\n",
        "\n",
        "      # now using KNN imputer to impute missing values\n",
        "      model1 = KNNImputer(n_neighbors=3)\n",
        "      data.loc[data.product_code==code, feature] = model1.fit_transform(data.loc[data.product_code==code, feature])\n",
        "\n",
        "    # average of measurement\n",
        "    data['measurement_avg'] = data[[f'measurement_{i}' for i in range(3, 17)]].mean(axis=1)\n",
        "    df_train = data.iloc[:df_train.shape[0],:]\n",
        "    df_test = data.iloc[df_train.shape[0]:,:]\n",
        "    features = ['loading', 'attribute_0', 'measurement_17', 'measurement_0', 'measurement_1', 'measurement_2', 'area', 'm3_null', 'm5_null', 'measurement_avg']\n",
        "    \n",
        "    return df_train, df_test, features"
      ]
    },
    {
      "cell_type": "code",
      "execution_count": 16,
      "metadata": {
        "id": "6RU6xNEQs43G"
      },
      "outputs": [],
      "source": [
        "# apply preprocess\n",
        "x_train, x_test, features = preprocessing(train_df, test_df)\n",
        "\n",
        "# pipeline (to make preprocessing faster)\n",
        "preprocessing_pp = make_pipeline(\n",
        "    make_column_transformer(\n",
        "        (WOEEncoder(), ['attribute_0']), # turn string into binary value\n",
        "        (FunctionTransformer(np.log1p), ['loading']),\n",
        "        remainder = 'passthrough'\n",
        "    ),\n",
        "    RobustScaler()\n",
        ")\n",
        "\n",
        "# cross validation\n",
        "# use 2 production groups for valid set\n",
        "production = train_df[\"product_code\"].unique()\n",
        "# pick 2 index out of five product codes\n",
        "cmb_groups = list(itertools.combinations(production, 2))\n",
        "\n",
        "train_index = []\n",
        "valid_index = []\n",
        "\n",
        "# pick out data using these codes\n",
        "for group in cmb_groups:\n",
        "  group_zero_list = train_df.loc[train_df[\"product_code\"]==group[0], :].index\n",
        "  group_one_list = train_df.loc[train_df[\"product_code\"]==group[1], :].index\n",
        "  # combine two list\n",
        "  list0 = list(group_zero_list)\n",
        "  list1 = list(group_one_list)\n",
        "  tmp_list = list0 + list1\n",
        "\n",
        "  # total list - test set = train set\n",
        "  train_set = set(list(train_df.index)) - set(tmp_list)\n",
        "  train_index.append(list(train_set))\n",
        "  valid_index.append(tmp_list)"
      ]
    },
    {
      "cell_type": "markdown",
      "metadata": {
        "id": "zxRvQ6vTQB7o"
      },
      "source": [
        "## Make Prediction"
      ]
    },
    {
      "cell_type": "code",
      "execution_count": 17,
      "metadata": {
        "id": "QaKtmObeQiDu"
      },
      "outputs": [],
      "source": [
        "# set seed\n",
        "def set_seeds(seed):\n",
        "  random.seed(seed)\n",
        "  np.random.seed(seed)\n",
        "\n",
        "# main train loop here\n",
        "def score(input_model):\n",
        "  set_seeds(seed=SEED)\n",
        "\n",
        "  # store some results\n",
        "  test_preds = np.zeros((x_test.shape[0],)) \n",
        "\n",
        "  for fold, train_ in enumerate(train_index):\n",
        "    # training data\n",
        "    x_train_ = x_train[features].iloc[train_, :].copy()\n",
        "    y_train = target[train_].copy()\n",
        "\n",
        "    # define model and train\n",
        "    model = make_pipeline(\n",
        "        clone(preprocessing_pp),\n",
        "        clone(input_model)\n",
        "    )\n",
        "\n",
        "    model.fit(x_train_, y_train)\n",
        "    # get predictions\n",
        "\n",
        "    test_preds += model.predict_proba(x_test)[:,1] / len(train_index)\n",
        "\n",
        "  return test_preds"
      ]
    },
    {
      "cell_type": "code",
      "execution_count": 18,
      "metadata": {
        "id": "5ZuXaDd4QA0W"
      },
      "outputs": [],
      "source": [
        "# load model\n",
        "with open(MODEL_WEIGHT_PATH, \"rb\") as pklFile:\n",
        "  model = pickle.load(pklFile)\n",
        "\n",
        "# making submission\n",
        "submission = pd.read_csv(\"dont_click_me.csv\")\n",
        "submission['failure'] = score(\n",
        "    model\n",
        ")\n",
        "\n",
        "submission.to_csv(SUBMISSION_PATH, index=False)"
      ]
    }
  ],
  "metadata": {
    "colab": {
      "include_colab_link": true,
      "provenance": []
    },
    "kernelspec": {
      "display_name": "Python 3.10.2 64-bit",
      "language": "python",
      "name": "python3"
    },
    "language_info": {
      "codemirror_mode": {
        "name": "ipython",
        "version": 3
      },
      "file_extension": ".py",
      "mimetype": "text/x-python",
      "name": "python",
      "nbconvert_exporter": "python",
      "pygments_lexer": "ipython3",
      "version": "3.10.2"
    },
    "vscode": {
      "interpreter": {
        "hash": "b30622970a655defffdcb92d951a5d24b12e4501d25a5079c453b898c8b9c4ae"
      }
    }
  },
  "nbformat": 4,
  "nbformat_minor": 0
}
